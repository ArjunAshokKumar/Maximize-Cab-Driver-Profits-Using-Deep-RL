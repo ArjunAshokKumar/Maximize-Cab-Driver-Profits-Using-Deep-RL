{
 "cells": [
  {
   "cell_type": "markdown",
   "metadata": {},
   "source": [
    "### Cab-Driver Agent"
   ]
  },
  {
   "cell_type": "code",
   "execution_count": 29,
   "metadata": {},
   "outputs": [],
   "source": [
    "# Importing libraries\n",
    "import numpy as np\n",
    "import random\n",
    "import math\n",
    "import time\n",
    "from collections import deque\n",
    "import collections\n",
    "import pickle\n",
    "\n",
    "# for building DQN model\n",
    "from keras import layers\n",
    "from keras import Sequential\n",
    "from keras.layers import Dense, Activation, Flatten\n",
    "# from keras.optimizers import Adam\n",
    "from tensorflow.keras.optimizers import Adam\n",
    "\n",
    "# for plotting graphs\n",
    "import matplotlib.pyplot as plt\n",
    "\n",
    "# Import the environment\n",
    "from Env import CabDriver"
   ]
  },
  {
   "cell_type": "code",
   "execution_count": 30,
   "metadata": {},
   "outputs": [],
   "source": [
    "from keras.models import load_model"
   ]
  },
  {
   "cell_type": "code",
   "execution_count": 31,
   "metadata": {},
   "outputs": [],
   "source": [
    "import warnings\n",
    "warnings.filterwarnings('ignore')"
   ]
  },
  {
   "cell_type": "markdown",
   "metadata": {},
   "source": [
    "#### Defining Time Matrix"
   ]
  },
  {
   "cell_type": "code",
   "execution_count": 32,
   "metadata": {},
   "outputs": [],
   "source": [
    "# Loading the time matrix provided\n",
    "Time_matrix = np.load(\"TM.npy\")"
   ]
  },
  {
   "cell_type": "code",
   "execution_count": 33,
   "metadata": {},
   "outputs": [
    {
     "data": {
      "text/plain": [
       "(5, 5, 24, 7)"
      ]
     },
     "execution_count": 33,
     "metadata": {},
     "output_type": "execute_result"
    }
   ],
   "source": [
    "Time_matrix.shape"
   ]
  },
  {
   "cell_type": "markdown",
   "metadata": {},
   "source": [
    "#### Tracking the state-action pairs for checking convergence\n"
   ]
  },
  {
   "cell_type": "markdown",
   "metadata": {},
   "source": [
    "Tracking the following state-actions pairs:\n",
    "1. state: (3,14,5), action: (3,1)\n",
    "2. state: (1,8,2), action: (4,2)\n",
    "3. state: (2,10,3), action: (1,4)"
   ]
  },
  {
   "cell_type": "code",
   "execution_count": 34,
   "metadata": {},
   "outputs": [],
   "source": [
    "# state tracking:\n",
    "states_track = [(3,14,5),(1,8,2),(2,10,3)]\n",
    "actions_track = [(3,1),(4,2),(1,4)]"
   ]
  },
  {
   "cell_type": "markdown",
   "metadata": {},
   "source": [
    "### Agent Class\n",
    "\n",
    "If you are using this framework, you need to fill the following to complete the following code block:\n",
    "1. State and Action Size\n",
    "2. Hyperparameters\n",
    "3. Create a neural-network model in function 'build_model()'\n",
    "4. Define epsilon-greedy strategy in function 'get_action()'\n",
    "5. Complete the function 'append_sample()'. This function appends the recent experience tuple <state, action, reward, new-state> to the memory\n",
    "6. Complete the 'train_model()' function with following logic:\n",
    "   - If the memory size is greater than mini-batch size, you randomly sample experiences from memory as per the mini-batch size and do the following:\n",
    "      - Initialise your input and output batch for training the model\n",
    "      - Calculate the target Q value for each sample: reward + gamma*max(Q(s'a,))\n",
    "      - Get Q(s', a) values from the last trained model\n",
    "      - Update the input batch as your encoded state-action and output batch as your Q-values\n",
    "      - Then fit your DQN model using the updated input and output batch."
   ]
  },
  {
   "cell_type": "code",
   "execution_count": 35,
   "metadata": {},
   "outputs": [],
   "source": [
    "class DQNAgent:\n",
    "    def __init__(self, state_size, action_size, states_track, actions_track):\n",
    "        # Define size of state and action\n",
    "        self.state_size = state_size\n",
    "        self.action_size = action_size\n",
    "\n",
    "        # Write here: Specify you hyper parameters for the DQN\n",
    "        self.discount_factor = 0.95\n",
    "        self.learning_rate = 0.01 \n",
    "        self.epsilon = 1\n",
    "        self.epsilon_max = 1\n",
    "        self.epsilon_decay = 0.0009\n",
    "        self.epsilon_min = 0.001\n",
    "        self.batch_size = 32        \n",
    "        # create replay memory using deque\n",
    "        self.memory = deque(maxlen=2000)\n",
    "\n",
    "        # create main model and target model\n",
    "        self.model = self.build_model()\n",
    "        \n",
    "        # tracking state, action for convergence\n",
    "        self.state_tracking_1, self.state_tracking_2, self.state_tracking_3 = [], [], []\n",
    "        \n",
    "        self.states_to_track = []\n",
    "        for state in states_track:\n",
    "            self.states_to_track.append(np.array(env.state_encod_arch2(state)).reshape(1, self.state_size))\n",
    "        \n",
    "        self.actions_track_index = []\n",
    "        for action in actions_track:\n",
    "            self.actions_track_index.append(env.action_space.index(action))\n",
    "        \n",
    "\n",
    "    # approximate Q function using Neural Network\n",
    "    def build_model(self):\n",
    "        model = Sequential()\n",
    "        # Write your code here: Add layers to your neural nets    \n",
    "        \n",
    "        model.add(Dense(32, input_dim=self.state_size, activation='relu', kernel_initializer='he_uniform'))\n",
    "        model.add(Dense(32, activation= 'relu', kernel_initializer= 'he_uniform'))\n",
    "        model.add(Dense(self.action_size, activation='relu', kernel_initializer='he_uniform'))\n",
    "        model.compile(loss='mse',optimizer=Adam(lr=self.learning_rate))\n",
    "        model.summary\n",
    "        \n",
    "        return model\n",
    "\n",
    "\n",
    "    def get_action(self, state):\n",
    "        # Write your code here:\n",
    "        # get action from model using epsilon-greedy policy\n",
    "        # Decay in ε after we generate each sample from the environment    \n",
    "        \n",
    "        possible_actions_index, actions = env.requests(state)\n",
    "        \n",
    "        z = np.random.random()\n",
    "        \n",
    "        if z > self.epsilon:  #Exploitation\n",
    "            state = np.array(env.state_encod_arch2(state)).reshape(1,self.state_size)\n",
    "            q_values = self.model.predict(state)\n",
    "            q_values_possible = np.array([q_values[0][i] for i in possible_actions_index])\n",
    "            q_max_index = np.argmax(q_values_possible)\n",
    "            \n",
    "            return possible_actions_index[q_max_index]\n",
    "        \n",
    "        else:    #Exploration\n",
    "            return random.randrange(self.action_size)\n",
    "\n",
    "    def append_sample(self, state, action, reward, next_state, terminal_state):\n",
    "        # Write your code here:\n",
    "        # save sample <s,a,r,s'> to the replay memory\n",
    "        self.memory.append((state, action, reward, next_state, terminal_state))\n",
    "\n",
    "    # pick samples randomly from replay memory (with batch_size) and train the network\n",
    "    def train_model(self):\n",
    "        if len(self.memory) > self.batch_size:\n",
    "            # Sample batch from the memory\n",
    "            mini_batch = random.sample(self.memory, self.batch_size)\n",
    "            update_output = np.zeros((self.batch_size, self.state_size))\n",
    "            update_input = np.zeros((self.batch_size, self.state_size))\n",
    "            actions, rewards, terminal_state = [], [], []\n",
    "            \n",
    "            for i in range(self.batch_size):\n",
    "                state, action, reward, next_state, terminal_state2 = mini_batch[i]\n",
    "                update_input[i] = env.state_encod_arch2(state)\n",
    "                actions.append(action)\n",
    "                rewards.append(reward)\n",
    "                update_output[i] = env.state_encod_arch2(next_state)\n",
    "                terminal_state.append(terminal_state2)\n",
    "                \n",
    "                # Write your code from here\n",
    "            # 1. Predict the target from earlier model\n",
    "            target = self.model.predict(update_input)\n",
    "                \n",
    "            # 2. Get the target for the Q-network\n",
    "            target_q_net = self.model.predict(update_output)\n",
    "                \n",
    "            # 3. Update your 'update_output' and 'update_input' batch. Be careful to use the encoded state-action pair\n",
    "            for i in range(self.batch_size):\n",
    "    \n",
    "                if terminal_state[i]:\n",
    "                    target[i][actions[i]] = rewards[i]\n",
    "                else:\n",
    "                    target[i][actions[i]] = rewards[i] + self.discount_factor * np.amax(target_q_net[i])\n",
    "            \n",
    "            # 4. Fit your model and track the loss values\n",
    "            self.model.fit(update_input, target, batch_size=self.batch_size, epochs=1, verbose=0)\n",
    "            \n",
    "            \n",
    "    def save(self, name):\n",
    "#         self.model.save_weights(name)\n",
    "        self.model.save(name)\n",
    "        \n",
    "    def save_state_tracking(self):\n",
    "        q_val_1 = self.model.predict(self.states_to_track[0])\n",
    "        q_val_2 = self.model.predict(self.states_to_track[1])\n",
    "        q_val_3 = self.model.predict(self.states_to_track[2])\n",
    "        \n",
    "        self.state_tracking_1.append(q_val_1[0][self.actions_track_index[0]])\n",
    "        self.state_tracking_2.append(q_val_1[0][self.actions_track_index[1]])\n",
    "        self.state_tracking_3.append(q_val_1[0][self.actions_track_index[2]])\n",
    "        \n",
    "    #Defining a function to save the Q-dictionary as a pickle file\n",
    "    def save_obj(self, name):\n",
    "        obj = self.model.weights\n",
    "        with open(name + '.pkl', 'wb') as f:\n",
    "            pickle.dump(obj, f, pickle.HIGHEST_PROTOCOL)"
   ]
  },
  {
   "cell_type": "code",
   "execution_count": 36,
   "metadata": {},
   "outputs": [],
   "source": [
    "#Initializing necessary variables\n",
    "Episodes = 10000\n",
    "max_run_time = 24*30\n",
    "m = 5 # number of cities, ranges from 1 ..... m\n",
    "t = 24 # number of hours, ranges from 0 .... t-1\n",
    "d = 7  # number of days, ranges from 0 ... d-1"
   ]
  },
  {
   "cell_type": "markdown",
   "metadata": {},
   "source": [
    "### DQN block"
   ]
  },
  {
   "cell_type": "code",
   "execution_count": 37,
   "metadata": {},
   "outputs": [
    {
     "name": "stdout",
     "output_type": "stream",
     "text": [
      "Episode  0 \tInitial State:  (0, 2, 1) \tEpisode Reward:  156 \tTotal Ride Time:  724\n",
      "Elapsed time:  -49.29270315170288\n"
     ]
    }
   ],
   "source": [
    "start_time = time.time() #to calculate the time of each episode\n",
    "#rewards_tracked = []\n",
    "rewards_per_episode =[]\n",
    "episodes = []\n",
    "\n",
    "#Getting info from CabDriver to invoke DQNAgent object\n",
    "env = CabDriver()\n",
    "action_space, state_space, state = env.reset()\n",
    "state_size = m+t+d\n",
    "action_size = len(action_space)\n",
    "dqn_agent = DQNAgent(state_size, action_size, states_track, actions_track)\n",
    "\n",
    "for episode in range(Episodes):\n",
    "\n",
    "    # Write code here\n",
    "    # Call the environment\n",
    "    # Call all the initialised variables of the environment\n",
    "    \n",
    "    terminal_state = False\n",
    "    reward_this_episode = 0\n",
    "    \n",
    "    env = CabDriver()\n",
    "    action_space, state_space, state = env.reset()\n",
    "    init_state = state\n",
    "    total_time = 0 #time drive time for this episode\n",
    "    \n",
    "    while not (terminal_state):\n",
    "        \n",
    "        # Write your code here\n",
    "        # 1. Pick epsilon-greedy action from possible actions for the current state\n",
    "        action_index = dqn_agent.get_action(state)\n",
    "        action = env.action_space[action_index]\n",
    "        \n",
    "        # 2. Evaluate your reward and next state\n",
    "        reward = env.reward_func(state, action, Time_matrix)\n",
    "        next_state = env.next_state_func(state, action, Time_matrix)\n",
    "        \n",
    "        #calculate the time taken as the max time is 24*30 hrs.\n",
    "        time_for_step = env.calc_total_time(state, action, Time_matrix)\n",
    "        total_time += time_for_step\n",
    "        if total_time < max_run_time:\n",
    "            # 3. Append the experience to the memory\n",
    "            dqn_agent.append_sample(state, action_index, reward, next_state, terminal_state)\n",
    "            # 4. Train the model by calling function dqn_agent.train_model\n",
    "            dqn_agent.train_model()\n",
    "            # 5. Keep a track of rewards, Q-values, loss\n",
    "            reward_this_episode += reward\n",
    "            state = next_state\n",
    "        else:\n",
    "            terminal_state = True\n",
    "        \n",
    "    rewards_per_episode.append(reward_this_episode)\n",
    "    episodes.append(episode)\n",
    "\n",
    "    #set the epsilon value\n",
    "    dqn_agent.epsilon = dqn_agent.epsilon_min + (dqn_agent.epsilon_max - dqn_agent.epsilon_min) * np.exp(dqn_agent.epsilon_decay * episode)\n",
    "\n",
    "    if episode % 5 == 0:\n",
    "        print('Episode ',episode, \n",
    "              '\\tInitial State: ', init_state, \n",
    "              '\\tEpisode Reward: ',reward_this_episode, \n",
    "              '\\tTotal Ride Time: ', total_time)\n",
    "        dqn_agent.save_state_tracking()\n",
    "\n",
    "    if episode % 1000 == 0:\n",
    "        dqn_agent.save('CabDriver_DQN_Model.h5')\n",
    "\n",
    "end_time = time.time()\n",
    "print('Elapsed time: ', (start_time-end_time))"
   ]
  },
  {
   "cell_type": "code",
   "execution_count": 38,
   "metadata": {},
   "outputs": [],
   "source": [
    "dqn_agent.save('CabDriver_DQN_Model.h5') #h5 file\n",
    "dqn_agent.save_obj('Model_Weights') #pickle file"
   ]
  },
  {
   "cell_type": "markdown",
   "metadata": {},
   "source": [
    "### Tracking Convergence"
   ]
  },
  {
   "cell_type": "code",
   "execution_count": 39,
   "metadata": {},
   "outputs": [],
   "source": [
    "model = load_model('CabDriver_DQN_Model.h5')"
   ]
  },
  {
   "cell_type": "code",
   "execution_count": 54,
   "metadata": {},
   "outputs": [],
   "source": [
    "def dqn_predict(state):\n",
    "    state_size = m + t + d\n",
    "    encoded_state = np.array(env.state_encod_arch2(state)).reshape(1, state_size)\n",
    "    action_index = np.argmax(model.predict(encoded_state))\n",
    "    action = action_space[action_index]\n",
    "    print('Predicted Action for {0}: {1}'.format(state, action))"
   ]
  },
  {
   "cell_type": "code",
   "execution_count": 55,
   "metadata": {},
   "outputs": [
    {
     "name": "stdout",
     "output_type": "stream",
     "text": [
      "Predicted Action for (3, 3, 4): (4, 0)\n"
     ]
    }
   ],
   "source": [
    "dqn_predict((3,3,4))"
   ]
  },
  {
   "cell_type": "code",
   "execution_count": 56,
   "metadata": {},
   "outputs": [
    {
     "data": {
      "text/plain": [
       "[914.9723]"
      ]
     },
     "execution_count": 56,
     "metadata": {},
     "output_type": "execute_result"
    }
   ],
   "source": [
    "dqn_agent.state_tracking_1"
   ]
  },
  {
   "cell_type": "markdown",
   "metadata": {},
   "source": [
    "#### Epsilon-decay sample function"
   ]
  },
  {
   "cell_type": "markdown",
   "metadata": {},
   "source": [
    "<div class=\"alert alert-block alert-info\">\n",
    "Try building a similar epsilon-decay function for your model.\n",
    "</div>"
   ]
  },
  {
   "cell_type": "code",
   "execution_count": null,
   "metadata": {},
   "outputs": [],
   "source": [
    "# time = np.arange(0,10000)\n",
    "# epsilon = []\n",
    "# for i in range(0,10000):\n",
    "#     epsilon.append(0 + (1 - 0) * np.exp(-0.0009*i))"
   ]
  },
  {
   "cell_type": "code",
   "execution_count": null,
   "metadata": {},
   "outputs": [],
   "source": [
    "# plt.plot(time, epsilon)\n",
    "# plt.show()"
   ]
  },
  {
   "cell_type": "code",
   "execution_count": null,
   "metadata": {},
   "outputs": [],
   "source": []
  }
 ],
 "metadata": {
  "kernelspec": {
   "display_name": "Python 3 (ipykernel)",
   "language": "python",
   "name": "python3"
  },
  "language_info": {
   "codemirror_mode": {
    "name": "ipython",
    "version": 3
   },
   "file_extension": ".py",
   "mimetype": "text/x-python",
   "name": "python",
   "nbconvert_exporter": "python",
   "pygments_lexer": "ipython3",
   "version": "3.9.5"
  }
 },
 "nbformat": 4,
 "nbformat_minor": 2
}
